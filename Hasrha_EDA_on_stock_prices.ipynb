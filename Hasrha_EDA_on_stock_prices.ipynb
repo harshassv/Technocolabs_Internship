{
 "cells": [
  {
   "cell_type": "code",
   "execution_count": 53,
   "id": "inclusive-external",
   "metadata": {},
   "outputs": [],
   "source": [
    "import pandas as pd\n",
    "import matplotlib.pyplot as plt\n",
    "plt.style.use('fivethirtyeight')\n",
    "%matplotlib inline\n",
    "import seaborn as s\n",
    "from datetime import datetime"
   ]
  },
  {
   "cell_type": "code",
   "execution_count": 54,
   "id": "active-eight",
   "metadata": {},
   "outputs": [],
   "source": [
    "data=pd.read_csv('HistoricalData_TSLA.csv')\n",
    "# index_col='Date'"
   ]
  },
  {
   "cell_type": "code",
   "execution_count": 55,
   "id": "virgin-stocks",
   "metadata": {},
   "outputs": [
    {
     "data": {
      "text/plain": [
       "Index(['Date', 'Close/Last', 'Volume', 'Open', 'High', 'Low'], dtype='object')"
      ]
     },
     "execution_count": 55,
     "metadata": {},
     "output_type": "execute_result"
    }
   ],
   "source": [
    "data.columns"
   ]
  },
  {
   "cell_type": "code",
   "execution_count": 56,
   "id": "sunrise-mediterranean",
   "metadata": {},
   "outputs": [
    {
     "data": {
      "text/plain": [
       "0       $598.78\n",
       "1       $603.59\n",
       "2       $605.13\n",
       "3       $599.05\n",
       "4       $572.84\n",
       "         ...   \n",
       "2511       $5.3\n",
       "2512     $5.464\n",
       "2513      $5.72\n",
       "2514     $5.686\n",
       "2515     $5.572\n",
       "Name: Close/Last, Length: 2516, dtype: object"
      ]
     },
     "execution_count": 56,
     "metadata": {},
     "output_type": "execute_result"
    }
   ],
   "source": [
    "data['Close/Last']"
   ]
  },
  {
   "cell_type": "code",
   "execution_count": 57,
   "id": "tight-director",
   "metadata": {},
   "outputs": [
    {
     "data": {
      "text/plain": [
       "(2516, 6)"
      ]
     },
     "execution_count": 57,
     "metadata": {},
     "output_type": "execute_result"
    }
   ],
   "source": [
    "data.shape"
   ]
  },
  {
   "cell_type": "code",
   "execution_count": 58,
   "id": "incorporate-warning",
   "metadata": {
    "scrolled": true
   },
   "outputs": [
    {
     "data": {
      "text/html": [
       "<div>\n",
       "<style scoped>\n",
       "    .dataframe tbody tr th:only-of-type {\n",
       "        vertical-align: middle;\n",
       "    }\n",
       "\n",
       "    .dataframe tbody tr th {\n",
       "        vertical-align: top;\n",
       "    }\n",
       "\n",
       "    .dataframe thead th {\n",
       "        text-align: right;\n",
       "    }\n",
       "</style>\n",
       "<table border=\"1\" class=\"dataframe\">\n",
       "  <thead>\n",
       "    <tr style=\"text-align: right;\">\n",
       "      <th></th>\n",
       "      <th>Date</th>\n",
       "      <th>Close/Last</th>\n",
       "      <th>Volume</th>\n",
       "      <th>Open</th>\n",
       "      <th>High</th>\n",
       "      <th>Low</th>\n",
       "    </tr>\n",
       "  </thead>\n",
       "  <tbody>\n",
       "    <tr>\n",
       "      <th>0</th>\n",
       "      <td>06/09/2021</td>\n",
       "      <td>$598.78</td>\n",
       "      <td>16584570</td>\n",
       "      <td>$602.17</td>\n",
       "      <td>$611.79</td>\n",
       "      <td>$597.6301</td>\n",
       "    </tr>\n",
       "    <tr>\n",
       "      <th>1</th>\n",
       "      <td>06/08/2021</td>\n",
       "      <td>$603.59</td>\n",
       "      <td>26053410</td>\n",
       "      <td>$623.01</td>\n",
       "      <td>$623.09</td>\n",
       "      <td>$595.5</td>\n",
       "    </tr>\n",
       "    <tr>\n",
       "      <th>2</th>\n",
       "      <td>06/07/2021</td>\n",
       "      <td>$605.13</td>\n",
       "      <td>22543680</td>\n",
       "      <td>$591.825</td>\n",
       "      <td>$610</td>\n",
       "      <td>$582.88</td>\n",
       "    </tr>\n",
       "    <tr>\n",
       "      <th>3</th>\n",
       "      <td>06/04/2021</td>\n",
       "      <td>$599.05</td>\n",
       "      <td>24036900</td>\n",
       "      <td>$579.71</td>\n",
       "      <td>$600.61</td>\n",
       "      <td>$577.2</td>\n",
       "    </tr>\n",
       "    <tr>\n",
       "      <th>4</th>\n",
       "      <td>06/03/2021</td>\n",
       "      <td>$572.84</td>\n",
       "      <td>30111890</td>\n",
       "      <td>$601.8</td>\n",
       "      <td>$604.55</td>\n",
       "      <td>$571.22</td>\n",
       "    </tr>\n",
       "  </tbody>\n",
       "</table>\n",
       "</div>"
      ],
      "text/plain": [
       "         Date Close/Last    Volume      Open     High        Low\n",
       "0  06/09/2021    $598.78  16584570   $602.17  $611.79  $597.6301\n",
       "1  06/08/2021    $603.59  26053410   $623.01  $623.09     $595.5\n",
       "2  06/07/2021    $605.13  22543680  $591.825     $610    $582.88\n",
       "3  06/04/2021    $599.05  24036900   $579.71  $600.61     $577.2\n",
       "4  06/03/2021    $572.84  30111890    $601.8  $604.55    $571.22"
      ]
     },
     "execution_count": 58,
     "metadata": {},
     "output_type": "execute_result"
    }
   ],
   "source": [
    "data.head()"
   ]
  },
  {
   "cell_type": "code",
   "execution_count": 59,
   "id": "established-amazon",
   "metadata": {},
   "outputs": [],
   "source": [
    "data.rename(columns={'Close/Last': 'Close'},inplace=True)"
   ]
  },
  {
   "cell_type": "code",
   "execution_count": 60,
   "id": "bizarre-chosen",
   "metadata": {},
   "outputs": [
    {
     "data": {
      "text/html": [
       "<div>\n",
       "<style scoped>\n",
       "    .dataframe tbody tr th:only-of-type {\n",
       "        vertical-align: middle;\n",
       "    }\n",
       "\n",
       "    .dataframe tbody tr th {\n",
       "        vertical-align: top;\n",
       "    }\n",
       "\n",
       "    .dataframe thead th {\n",
       "        text-align: right;\n",
       "    }\n",
       "</style>\n",
       "<table border=\"1\" class=\"dataframe\">\n",
       "  <thead>\n",
       "    <tr style=\"text-align: right;\">\n",
       "      <th></th>\n",
       "      <th>Date</th>\n",
       "      <th>Close</th>\n",
       "      <th>Volume</th>\n",
       "      <th>Open</th>\n",
       "      <th>High</th>\n",
       "      <th>Low</th>\n",
       "    </tr>\n",
       "  </thead>\n",
       "  <tbody>\n",
       "    <tr>\n",
       "      <th>0</th>\n",
       "      <td>06/09/2021</td>\n",
       "      <td>$598.78</td>\n",
       "      <td>16584570</td>\n",
       "      <td>$602.17</td>\n",
       "      <td>$611.79</td>\n",
       "      <td>$597.6301</td>\n",
       "    </tr>\n",
       "    <tr>\n",
       "      <th>1</th>\n",
       "      <td>06/08/2021</td>\n",
       "      <td>$603.59</td>\n",
       "      <td>26053410</td>\n",
       "      <td>$623.01</td>\n",
       "      <td>$623.09</td>\n",
       "      <td>$595.5</td>\n",
       "    </tr>\n",
       "    <tr>\n",
       "      <th>2</th>\n",
       "      <td>06/07/2021</td>\n",
       "      <td>$605.13</td>\n",
       "      <td>22543680</td>\n",
       "      <td>$591.825</td>\n",
       "      <td>$610</td>\n",
       "      <td>$582.88</td>\n",
       "    </tr>\n",
       "    <tr>\n",
       "      <th>3</th>\n",
       "      <td>06/04/2021</td>\n",
       "      <td>$599.05</td>\n",
       "      <td>24036900</td>\n",
       "      <td>$579.71</td>\n",
       "      <td>$600.61</td>\n",
       "      <td>$577.2</td>\n",
       "    </tr>\n",
       "    <tr>\n",
       "      <th>4</th>\n",
       "      <td>06/03/2021</td>\n",
       "      <td>$572.84</td>\n",
       "      <td>30111890</td>\n",
       "      <td>$601.8</td>\n",
       "      <td>$604.55</td>\n",
       "      <td>$571.22</td>\n",
       "    </tr>\n",
       "  </tbody>\n",
       "</table>\n",
       "</div>"
      ],
      "text/plain": [
       "         Date    Close    Volume      Open     High        Low\n",
       "0  06/09/2021  $598.78  16584570   $602.17  $611.79  $597.6301\n",
       "1  06/08/2021  $603.59  26053410   $623.01  $623.09     $595.5\n",
       "2  06/07/2021  $605.13  22543680  $591.825     $610    $582.88\n",
       "3  06/04/2021  $599.05  24036900   $579.71  $600.61     $577.2\n",
       "4  06/03/2021  $572.84  30111890    $601.8  $604.55    $571.22"
      ]
     },
     "execution_count": 60,
     "metadata": {},
     "output_type": "execute_result"
    }
   ],
   "source": [
    "data.head()"
   ]
  },
  {
   "cell_type": "code",
   "execution_count": 61,
   "id": "german-consolidation",
   "metadata": {},
   "outputs": [
    {
     "data": {
      "text/plain": [
       "0       $598.78\n",
       "1       $603.59\n",
       "2       $605.13\n",
       "3       $599.05\n",
       "4       $572.84\n",
       "         ...   \n",
       "2511       $5.3\n",
       "2512     $5.464\n",
       "2513      $5.72\n",
       "2514     $5.686\n",
       "2515     $5.572\n",
       "Name: Close, Length: 2516, dtype: object"
      ]
     },
     "execution_count": 61,
     "metadata": {},
     "output_type": "execute_result"
    }
   ],
   "source": [
    "data['Close']"
   ]
  },
  {
   "cell_type": "code",
   "execution_count": 62,
   "id": "meaningful-blood",
   "metadata": {},
   "outputs": [
    {
     "data": {
      "text/plain": [
       "(2516, 6)"
      ]
     },
     "execution_count": 62,
     "metadata": {},
     "output_type": "execute_result"
    }
   ],
   "source": [
    "data.shape"
   ]
  },
  {
   "cell_type": "code",
   "execution_count": 63,
   "id": "working-circumstances",
   "metadata": {},
   "outputs": [
    {
     "data": {
      "text/plain": [
       "Date      object\n",
       "Close     object\n",
       "Volume     int64\n",
       "Open      object\n",
       "High      object\n",
       "Low       object\n",
       "dtype: object"
      ]
     },
     "execution_count": 63,
     "metadata": {},
     "output_type": "execute_result"
    }
   ],
   "source": [
    "data.dtypes"
   ]
  },
  {
   "cell_type": "code",
   "execution_count": 64,
   "id": "general-nation",
   "metadata": {},
   "outputs": [],
   "source": [
    "data['Date']=pd.to_datetime(data['Date'])"
   ]
  },
  {
   "cell_type": "code",
   "execution_count": 65,
   "id": "otherwise-blade",
   "metadata": {},
   "outputs": [
    {
     "data": {
      "text/plain": [
       "Date      datetime64[ns]\n",
       "Close             object\n",
       "Volume             int64\n",
       "Open              object\n",
       "High              object\n",
       "Low               object\n",
       "dtype: object"
      ]
     },
     "execution_count": 65,
     "metadata": {},
     "output_type": "execute_result"
    }
   ],
   "source": [
    "data.dtypes"
   ]
  },
  {
   "cell_type": "code",
   "execution_count": 66,
   "id": "champion-arctic",
   "metadata": {},
   "outputs": [],
   "source": [
    "data['Close']=data['Close'].str.slice(1)"
   ]
  },
  {
   "cell_type": "code",
   "execution_count": 67,
   "id": "mechanical-scientist",
   "metadata": {},
   "outputs": [],
   "source": [
    "data.sort_values(by='Date',inplace=True)"
   ]
  },
  {
   "cell_type": "code",
   "execution_count": 68,
   "id": "hearing-theme",
   "metadata": {},
   "outputs": [
    {
     "data": {
      "text/html": [
       "<div>\n",
       "<style scoped>\n",
       "    .dataframe tbody tr th:only-of-type {\n",
       "        vertical-align: middle;\n",
       "    }\n",
       "\n",
       "    .dataframe tbody tr th {\n",
       "        vertical-align: top;\n",
       "    }\n",
       "\n",
       "    .dataframe thead th {\n",
       "        text-align: right;\n",
       "    }\n",
       "</style>\n",
       "<table border=\"1\" class=\"dataframe\">\n",
       "  <thead>\n",
       "    <tr style=\"text-align: right;\">\n",
       "      <th></th>\n",
       "      <th>Date</th>\n",
       "      <th>Close</th>\n",
       "      <th>Volume</th>\n",
       "      <th>Open</th>\n",
       "      <th>High</th>\n",
       "      <th>Low</th>\n",
       "    </tr>\n",
       "  </thead>\n",
       "  <tbody>\n",
       "    <tr>\n",
       "      <th>2515</th>\n",
       "      <td>2011-06-10</td>\n",
       "      <td>5.572</td>\n",
       "      <td>7832660</td>\n",
       "      <td>$5.504</td>\n",
       "      <td>$5.6598</td>\n",
       "      <td>$5.47</td>\n",
       "    </tr>\n",
       "    <tr>\n",
       "      <th>2514</th>\n",
       "      <td>2011-06-13</td>\n",
       "      <td>5.686</td>\n",
       "      <td>8566960</td>\n",
       "      <td>$5.614</td>\n",
       "      <td>$5.776</td>\n",
       "      <td>$5.576</td>\n",
       "    </tr>\n",
       "    <tr>\n",
       "      <th>2513</th>\n",
       "      <td>2011-06-14</td>\n",
       "      <td>5.72</td>\n",
       "      <td>7866000</td>\n",
       "      <td>$5.708</td>\n",
       "      <td>$5.94</td>\n",
       "      <td>$5.704</td>\n",
       "    </tr>\n",
       "    <tr>\n",
       "      <th>2512</th>\n",
       "      <td>2011-06-15</td>\n",
       "      <td>5.464</td>\n",
       "      <td>6723390</td>\n",
       "      <td>$5.688</td>\n",
       "      <td>$5.69</td>\n",
       "      <td>$5.414</td>\n",
       "    </tr>\n",
       "    <tr>\n",
       "      <th>2511</th>\n",
       "      <td>2011-06-16</td>\n",
       "      <td>5.3</td>\n",
       "      <td>9210620</td>\n",
       "      <td>$5.534</td>\n",
       "      <td>$5.6</td>\n",
       "      <td>$5.148</td>\n",
       "    </tr>\n",
       "    <tr>\n",
       "      <th>...</th>\n",
       "      <td>...</td>\n",
       "      <td>...</td>\n",
       "      <td>...</td>\n",
       "      <td>...</td>\n",
       "      <td>...</td>\n",
       "      <td>...</td>\n",
       "    </tr>\n",
       "    <tr>\n",
       "      <th>4</th>\n",
       "      <td>2021-06-03</td>\n",
       "      <td>572.84</td>\n",
       "      <td>30111890</td>\n",
       "      <td>$601.8</td>\n",
       "      <td>$604.55</td>\n",
       "      <td>$571.22</td>\n",
       "    </tr>\n",
       "    <tr>\n",
       "      <th>3</th>\n",
       "      <td>2021-06-04</td>\n",
       "      <td>599.05</td>\n",
       "      <td>24036900</td>\n",
       "      <td>$579.71</td>\n",
       "      <td>$600.61</td>\n",
       "      <td>$577.2</td>\n",
       "    </tr>\n",
       "    <tr>\n",
       "      <th>2</th>\n",
       "      <td>2021-06-07</td>\n",
       "      <td>605.13</td>\n",
       "      <td>22543680</td>\n",
       "      <td>$591.825</td>\n",
       "      <td>$610</td>\n",
       "      <td>$582.88</td>\n",
       "    </tr>\n",
       "    <tr>\n",
       "      <th>1</th>\n",
       "      <td>2021-06-08</td>\n",
       "      <td>603.59</td>\n",
       "      <td>26053410</td>\n",
       "      <td>$623.01</td>\n",
       "      <td>$623.09</td>\n",
       "      <td>$595.5</td>\n",
       "    </tr>\n",
       "    <tr>\n",
       "      <th>0</th>\n",
       "      <td>2021-06-09</td>\n",
       "      <td>598.78</td>\n",
       "      <td>16584570</td>\n",
       "      <td>$602.17</td>\n",
       "      <td>$611.79</td>\n",
       "      <td>$597.6301</td>\n",
       "    </tr>\n",
       "  </tbody>\n",
       "</table>\n",
       "<p>2516 rows × 6 columns</p>\n",
       "</div>"
      ],
      "text/plain": [
       "           Date   Close    Volume      Open     High        Low\n",
       "2515 2011-06-10   5.572   7832660    $5.504  $5.6598      $5.47\n",
       "2514 2011-06-13   5.686   8566960    $5.614   $5.776     $5.576\n",
       "2513 2011-06-14    5.72   7866000    $5.708    $5.94     $5.704\n",
       "2512 2011-06-15   5.464   6723390    $5.688    $5.69     $5.414\n",
       "2511 2011-06-16     5.3   9210620    $5.534     $5.6     $5.148\n",
       "...         ...     ...       ...       ...      ...        ...\n",
       "4    2021-06-03  572.84  30111890    $601.8  $604.55    $571.22\n",
       "3    2021-06-04  599.05  24036900   $579.71  $600.61     $577.2\n",
       "2    2021-06-07  605.13  22543680  $591.825     $610    $582.88\n",
       "1    2021-06-08  603.59  26053410   $623.01  $623.09     $595.5\n",
       "0    2021-06-09  598.78  16584570   $602.17  $611.79  $597.6301\n",
       "\n",
       "[2516 rows x 6 columns]"
      ]
     },
     "execution_count": 68,
     "metadata": {},
     "output_type": "execute_result"
    }
   ],
   "source": [
    "data"
   ]
  },
  {
   "cell_type": "code",
   "execution_count": null,
   "id": "rough-killer",
   "metadata": {},
   "outputs": [],
   "source": []
  },
  {
   "cell_type": "code",
   "execution_count": 69,
   "id": "spatial-senator",
   "metadata": {},
   "outputs": [],
   "source": [
    "data['Close']=data['Close'].astype(float)"
   ]
  },
  {
   "cell_type": "code",
   "execution_count": 70,
   "id": "focused-circumstances",
   "metadata": {},
   "outputs": [],
   "source": [
    "data['Open']=data['Open'].str.slice(1)\n",
    "data['Open']=data['Open'].astype(float)"
   ]
  },
  {
   "cell_type": "code",
   "execution_count": 71,
   "id": "romantic-offset",
   "metadata": {},
   "outputs": [],
   "source": [
    "data['High']=data['High'].str.slice(1)\n",
    "data['High']=data['High'].astype(float)"
   ]
  },
  {
   "cell_type": "code",
   "execution_count": 72,
   "id": "horizontal-personality",
   "metadata": {},
   "outputs": [],
   "source": [
    "data['Low']=data['Low'].str.slice(1)\n",
    "data['Low']=data['Low'].astype(float)"
   ]
  },
  {
   "cell_type": "code",
   "execution_count": 73,
   "id": "level-checklist",
   "metadata": {},
   "outputs": [],
   "source": [
    "data['Volume']=data['Volume'].astype(float)"
   ]
  },
  {
   "cell_type": "code",
   "execution_count": 74,
   "id": "english-carry",
   "metadata": {},
   "outputs": [
    {
     "data": {
      "text/plain": [
       "Date      datetime64[ns]\n",
       "Close            float64\n",
       "Volume           float64\n",
       "Open             float64\n",
       "High             float64\n",
       "Low              float64\n",
       "dtype: object"
      ]
     },
     "execution_count": 74,
     "metadata": {},
     "output_type": "execute_result"
    }
   ],
   "source": [
    "data.dtypes"
   ]
  },
  {
   "cell_type": "code",
   "execution_count": 75,
   "id": "urban-entrepreneur",
   "metadata": {},
   "outputs": [
    {
     "data": {
      "text/html": [
       "<div>\n",
       "<style scoped>\n",
       "    .dataframe tbody tr th:only-of-type {\n",
       "        vertical-align: middle;\n",
       "    }\n",
       "\n",
       "    .dataframe tbody tr th {\n",
       "        vertical-align: top;\n",
       "    }\n",
       "\n",
       "    .dataframe thead th {\n",
       "        text-align: right;\n",
       "    }\n",
       "</style>\n",
       "<table border=\"1\" class=\"dataframe\">\n",
       "  <thead>\n",
       "    <tr style=\"text-align: right;\">\n",
       "      <th></th>\n",
       "      <th>Date</th>\n",
       "      <th>Close</th>\n",
       "      <th>Volume</th>\n",
       "      <th>Open</th>\n",
       "      <th>High</th>\n",
       "      <th>Low</th>\n",
       "    </tr>\n",
       "  </thead>\n",
       "  <tbody>\n",
       "    <tr>\n",
       "      <th>2515</th>\n",
       "      <td>2011-06-10</td>\n",
       "      <td>5.572</td>\n",
       "      <td>7832660.0</td>\n",
       "      <td>5.504</td>\n",
       "      <td>5.6598</td>\n",
       "      <td>5.470</td>\n",
       "    </tr>\n",
       "    <tr>\n",
       "      <th>2514</th>\n",
       "      <td>2011-06-13</td>\n",
       "      <td>5.686</td>\n",
       "      <td>8566960.0</td>\n",
       "      <td>5.614</td>\n",
       "      <td>5.7760</td>\n",
       "      <td>5.576</td>\n",
       "    </tr>\n",
       "    <tr>\n",
       "      <th>2513</th>\n",
       "      <td>2011-06-14</td>\n",
       "      <td>5.720</td>\n",
       "      <td>7866000.0</td>\n",
       "      <td>5.708</td>\n",
       "      <td>5.9400</td>\n",
       "      <td>5.704</td>\n",
       "    </tr>\n",
       "    <tr>\n",
       "      <th>2512</th>\n",
       "      <td>2011-06-15</td>\n",
       "      <td>5.464</td>\n",
       "      <td>6723390.0</td>\n",
       "      <td>5.688</td>\n",
       "      <td>5.6900</td>\n",
       "      <td>5.414</td>\n",
       "    </tr>\n",
       "    <tr>\n",
       "      <th>2511</th>\n",
       "      <td>2011-06-16</td>\n",
       "      <td>5.300</td>\n",
       "      <td>9210620.0</td>\n",
       "      <td>5.534</td>\n",
       "      <td>5.6000</td>\n",
       "      <td>5.148</td>\n",
       "    </tr>\n",
       "  </tbody>\n",
       "</table>\n",
       "</div>"
      ],
      "text/plain": [
       "           Date  Close     Volume   Open    High    Low\n",
       "2515 2011-06-10  5.572  7832660.0  5.504  5.6598  5.470\n",
       "2514 2011-06-13  5.686  8566960.0  5.614  5.7760  5.576\n",
       "2513 2011-06-14  5.720  7866000.0  5.708  5.9400  5.704\n",
       "2512 2011-06-15  5.464  6723390.0  5.688  5.6900  5.414\n",
       "2511 2011-06-16  5.300  9210620.0  5.534  5.6000  5.148"
      ]
     },
     "execution_count": 75,
     "metadata": {},
     "output_type": "execute_result"
    }
   ],
   "source": [
    "data.head()"
   ]
  },
  {
   "cell_type": "code",
   "execution_count": 76,
   "id": "surgical-flashing",
   "metadata": {},
   "outputs": [
    {
     "data": {
      "text/plain": [
       "Date      0\n",
       "Close     0\n",
       "Volume    0\n",
       "Open      0\n",
       "High      0\n",
       "Low       0\n",
       "dtype: int64"
      ]
     },
     "execution_count": 76,
     "metadata": {},
     "output_type": "execute_result"
    }
   ],
   "source": [
    "data.isnull().sum()"
   ]
  },
  {
   "cell_type": "code",
   "execution_count": 77,
   "id": "ordinary-probe",
   "metadata": {},
   "outputs": [
    {
     "data": {
      "text/html": [
       "<div>\n",
       "<style scoped>\n",
       "    .dataframe tbody tr th:only-of-type {\n",
       "        vertical-align: middle;\n",
       "    }\n",
       "\n",
       "    .dataframe tbody tr th {\n",
       "        vertical-align: top;\n",
       "    }\n",
       "\n",
       "    .dataframe thead th {\n",
       "        text-align: right;\n",
       "    }\n",
       "</style>\n",
       "<table border=\"1\" class=\"dataframe\">\n",
       "  <thead>\n",
       "    <tr style=\"text-align: right;\">\n",
       "      <th></th>\n",
       "      <th>Date</th>\n",
       "      <th>Close</th>\n",
       "      <th>Volume</th>\n",
       "      <th>Open</th>\n",
       "      <th>High</th>\n",
       "      <th>Low</th>\n",
       "    </tr>\n",
       "  </thead>\n",
       "  <tbody>\n",
       "    <tr>\n",
       "      <th>2515</th>\n",
       "      <td>2011-06-10</td>\n",
       "      <td>5.572</td>\n",
       "      <td>7832660.0</td>\n",
       "      <td>5.504</td>\n",
       "      <td>5.6598</td>\n",
       "      <td>5.470</td>\n",
       "    </tr>\n",
       "    <tr>\n",
       "      <th>2514</th>\n",
       "      <td>2011-06-13</td>\n",
       "      <td>5.686</td>\n",
       "      <td>8566960.0</td>\n",
       "      <td>5.614</td>\n",
       "      <td>5.7760</td>\n",
       "      <td>5.576</td>\n",
       "    </tr>\n",
       "    <tr>\n",
       "      <th>2513</th>\n",
       "      <td>2011-06-14</td>\n",
       "      <td>5.720</td>\n",
       "      <td>7866000.0</td>\n",
       "      <td>5.708</td>\n",
       "      <td>5.9400</td>\n",
       "      <td>5.704</td>\n",
       "    </tr>\n",
       "    <tr>\n",
       "      <th>2512</th>\n",
       "      <td>2011-06-15</td>\n",
       "      <td>5.464</td>\n",
       "      <td>6723390.0</td>\n",
       "      <td>5.688</td>\n",
       "      <td>5.6900</td>\n",
       "      <td>5.414</td>\n",
       "    </tr>\n",
       "    <tr>\n",
       "      <th>2511</th>\n",
       "      <td>2011-06-16</td>\n",
       "      <td>5.300</td>\n",
       "      <td>9210620.0</td>\n",
       "      <td>5.534</td>\n",
       "      <td>5.6000</td>\n",
       "      <td>5.148</td>\n",
       "    </tr>\n",
       "  </tbody>\n",
       "</table>\n",
       "</div>"
      ],
      "text/plain": [
       "           Date  Close     Volume   Open    High    Low\n",
       "2515 2011-06-10  5.572  7832660.0  5.504  5.6598  5.470\n",
       "2514 2011-06-13  5.686  8566960.0  5.614  5.7760  5.576\n",
       "2513 2011-06-14  5.720  7866000.0  5.708  5.9400  5.704\n",
       "2512 2011-06-15  5.464  6723390.0  5.688  5.6900  5.414\n",
       "2511 2011-06-16  5.300  9210620.0  5.534  5.6000  5.148"
      ]
     },
     "execution_count": 77,
     "metadata": {},
     "output_type": "execute_result"
    }
   ],
   "source": [
    "data.head()"
   ]
  },
  {
   "cell_type": "code",
   "execution_count": 78,
   "id": "selective-saturday",
   "metadata": {},
   "outputs": [],
   "source": [
    "all_dates=pd.date_range(start=str(data['Date'][data.shape[0]-1]).split(' ')[0], end=str(data['Date'][0]).split(' ')[0])\n",
    "# str(data['Date'][data.shape[0]-1]).split(' ')[0]\n",
    "# data['Date'][data.shape[0]-1]\n",
    "# data['Date'][0]\n",
    "# data.shape\n",
    "# dt_obj = datetime.fromtimestamp(data['Date'][data.shape[0]-1]).strftime('%d-%m-%y')"
   ]
  },
  {
   "cell_type": "code",
   "execution_count": 79,
   "id": "suited-caution",
   "metadata": {},
   "outputs": [],
   "source": [
    "# all_dates"
   ]
  },
  {
   "cell_type": "code",
   "execution_count": 80,
   "id": "weird-finger",
   "metadata": {},
   "outputs": [],
   "source": [
    "# dates_in_data=list(data['Date'])\n",
    "# dates_in_data=[str(i).split(' ')[0] for i in dates_in_data]\n",
    "# dates_in_data"
   ]
  },
  {
   "cell_type": "code",
   "execution_count": 81,
   "id": "welsh-student",
   "metadata": {},
   "outputs": [],
   "source": [
    "# str(list(all_dates)[0])\n",
    "\n",
    "# all_dates=[str(i).split(' ')[0] for i in list(all_dates)]\n",
    "\n",
    "# all_dates\n",
    "# str(list(all_dates)[0]).split(' ')[0]\n",
    "# print(str(list(all_dates)[0]).split(' ')[0])"
   ]
  },
  {
   "cell_type": "code",
   "execution_count": 82,
   "id": "interim-belize",
   "metadata": {},
   "outputs": [],
   "source": [
    "# all_dates"
   ]
  },
  {
   "cell_type": "code",
   "execution_count": 83,
   "id": "according-forward",
   "metadata": {},
   "outputs": [],
   "source": [
    "# dates_in_data\n",
    "# plt.plot(dates_in_data,all_dates)\n"
   ]
  },
  {
   "cell_type": "code",
   "execution_count": 84,
   "id": "changing-violin",
   "metadata": {},
   "outputs": [],
   "source": [
    "data.set_index(\"Date\",inplace=True)"
   ]
  },
  {
   "cell_type": "code",
   "execution_count": 85,
   "id": "widespread-generic",
   "metadata": {},
   "outputs": [],
   "source": [
    "# plt.figure(figsize=(16,8))\n",
    "# plt.title('Close price history')\n",
    "# plt.plot(data['Close'])\n",
    "# plt.xlabel('Date',fontsize=18)\n",
    "# plt.ylabel('Close price USD($)',fontsize=18)\n",
    "# plt.show()"
   ]
  },
  {
   "cell_type": "code",
   "execution_count": 86,
   "id": "engaged-technician",
   "metadata": {},
   "outputs": [
    {
     "data": {
      "text/html": [
       "<div>\n",
       "<style scoped>\n",
       "    .dataframe tbody tr th:only-of-type {\n",
       "        vertical-align: middle;\n",
       "    }\n",
       "\n",
       "    .dataframe tbody tr th {\n",
       "        vertical-align: top;\n",
       "    }\n",
       "\n",
       "    .dataframe thead th {\n",
       "        text-align: right;\n",
       "    }\n",
       "</style>\n",
       "<table border=\"1\" class=\"dataframe\">\n",
       "  <thead>\n",
       "    <tr style=\"text-align: right;\">\n",
       "      <th></th>\n",
       "      <th>Close</th>\n",
       "      <th>Open</th>\n",
       "      <th>High</th>\n",
       "      <th>Low</th>\n",
       "    </tr>\n",
       "    <tr>\n",
       "      <th>Date</th>\n",
       "      <th></th>\n",
       "      <th></th>\n",
       "      <th></th>\n",
       "      <th></th>\n",
       "    </tr>\n",
       "  </thead>\n",
       "  <tbody>\n",
       "    <tr>\n",
       "      <th>2011-06-10</th>\n",
       "      <td>5.572</td>\n",
       "      <td>5.504</td>\n",
       "      <td>5.6598</td>\n",
       "      <td>5.4700</td>\n",
       "    </tr>\n",
       "    <tr>\n",
       "      <th>2011-06-13</th>\n",
       "      <td>5.686</td>\n",
       "      <td>5.614</td>\n",
       "      <td>5.7760</td>\n",
       "      <td>5.5760</td>\n",
       "    </tr>\n",
       "    <tr>\n",
       "      <th>2011-06-14</th>\n",
       "      <td>5.720</td>\n",
       "      <td>5.708</td>\n",
       "      <td>5.9400</td>\n",
       "      <td>5.7040</td>\n",
       "    </tr>\n",
       "    <tr>\n",
       "      <th>2011-06-15</th>\n",
       "      <td>5.464</td>\n",
       "      <td>5.688</td>\n",
       "      <td>5.6900</td>\n",
       "      <td>5.4140</td>\n",
       "    </tr>\n",
       "    <tr>\n",
       "      <th>2011-06-16</th>\n",
       "      <td>5.300</td>\n",
       "      <td>5.534</td>\n",
       "      <td>5.6000</td>\n",
       "      <td>5.1480</td>\n",
       "    </tr>\n",
       "    <tr>\n",
       "      <th>...</th>\n",
       "      <td>...</td>\n",
       "      <td>...</td>\n",
       "      <td>...</td>\n",
       "      <td>...</td>\n",
       "    </tr>\n",
       "    <tr>\n",
       "      <th>2021-06-03</th>\n",
       "      <td>572.840</td>\n",
       "      <td>601.800</td>\n",
       "      <td>604.5500</td>\n",
       "      <td>571.2200</td>\n",
       "    </tr>\n",
       "    <tr>\n",
       "      <th>2021-06-04</th>\n",
       "      <td>599.050</td>\n",
       "      <td>579.710</td>\n",
       "      <td>600.6100</td>\n",
       "      <td>577.2000</td>\n",
       "    </tr>\n",
       "    <tr>\n",
       "      <th>2021-06-07</th>\n",
       "      <td>605.130</td>\n",
       "      <td>591.825</td>\n",
       "      <td>610.0000</td>\n",
       "      <td>582.8800</td>\n",
       "    </tr>\n",
       "    <tr>\n",
       "      <th>2021-06-08</th>\n",
       "      <td>603.590</td>\n",
       "      <td>623.010</td>\n",
       "      <td>623.0900</td>\n",
       "      <td>595.5000</td>\n",
       "    </tr>\n",
       "    <tr>\n",
       "      <th>2021-06-09</th>\n",
       "      <td>598.780</td>\n",
       "      <td>602.170</td>\n",
       "      <td>611.7900</td>\n",
       "      <td>597.6301</td>\n",
       "    </tr>\n",
       "  </tbody>\n",
       "</table>\n",
       "<p>2516 rows × 4 columns</p>\n",
       "</div>"
      ],
      "text/plain": [
       "              Close     Open      High       Low\n",
       "Date                                            \n",
       "2011-06-10    5.572    5.504    5.6598    5.4700\n",
       "2011-06-13    5.686    5.614    5.7760    5.5760\n",
       "2011-06-14    5.720    5.708    5.9400    5.7040\n",
       "2011-06-15    5.464    5.688    5.6900    5.4140\n",
       "2011-06-16    5.300    5.534    5.6000    5.1480\n",
       "...             ...      ...       ...       ...\n",
       "2021-06-03  572.840  601.800  604.5500  571.2200\n",
       "2021-06-04  599.050  579.710  600.6100  577.2000\n",
       "2021-06-07  605.130  591.825  610.0000  582.8800\n",
       "2021-06-08  603.590  623.010  623.0900  595.5000\n",
       "2021-06-09  598.780  602.170  611.7900  597.6301\n",
       "\n",
       "[2516 rows x 4 columns]"
      ]
     },
     "execution_count": 86,
     "metadata": {},
     "output_type": "execute_result"
    }
   ],
   "source": [
    "# Volume attribute is too huge so if we plot it along other attrbites we can't see got insights so i am dropping olume\n",
    "data_dv = data.drop(['Volume'],axis=1)\n",
    "data_dv\n"
   ]
  },
  {
   "cell_type": "code",
   "execution_count": 87,
   "id": "original-marathon",
   "metadata": {},
   "outputs": [
    {
     "data": {
      "text/plain": [
       "<AxesSubplot:>"
      ]
     },
     "execution_count": 87,
     "metadata": {},
     "output_type": "execute_result"
    },
    {
     "data": {
      "image/png": "[encoded data removed]",
      "text/plain": [
       "<Figure size 432x288 with 1 Axes>"
      ]
     },
     "metadata": {
      "needs_background": "light"
     },
     "output_type": "display_data"
    }
   ],
   "source": [
    "data_dv.boxplot()"
   ]
  },
  {
   "cell_type": "code",
   "execution_count": 88,
   "id": "increased-negotiation",
   "metadata": {},
   "outputs": [
    {
     "data": {
      "text/plain": [
       "{'whiskers': [<matplotlib.lines.Line2D at 0x22852730>,\n",
       "  <matplotlib.lines.Line2D at 0x22852950>],\n",
       " 'caps': [<matplotlib.lines.Line2D at 0x22852b70>,\n",
       "  <matplotlib.lines.Line2D at 0x22852d90>],\n",
       " 'boxes': [<matplotlib.lines.Line2D at 0x22852510>],\n",
       " 'medians': [<matplotlib.lines.Line2D at 0x22852fd0>],\n",
       " 'fliers': [<matplotlib.lines.Line2D at 0x2285a210>],\n",
       " 'means': []}"
      ]
     },
     "execution_count": 88,
     "metadata": {},
     "output_type": "execute_result"
    },
    {
     "data": {
      "image/png": "[encoded data removed]",
      "text/plain": [
       "<Figure size 432x288 with 1 Axes>"
      ]
     },
     "metadata": {
      "needs_background": "light"
     },
     "output_type": "display_data"
    }
   ],
   "source": [
    "# I am analysing only Close variable here because it is so much use ful for prediction\n",
    "plt.boxplot(list(data['Close']))"
   ]
  },
  {
   "cell_type": "code",
   "execution_count": 89,
   "id": "twenty-cuisine",
   "metadata": {},
   "outputs": [],
   "source": [
    "mean=sum(list(data['Open']))/len(list(data['Open']))"
   ]
  },
  {
   "cell_type": "code",
   "execution_count": 90,
   "id": "diverse-tsunami",
   "metadata": {},
   "outputs": [
    {
     "data": {
      "text/plain": [
       "94.28720131160584"
      ]
     },
     "execution_count": 90,
     "metadata": {},
     "output_type": "execute_result"
    }
   ],
   "source": [
    "mean"
   ]
  },
  {
   "cell_type": "code",
   "execution_count": 91,
   "id": "twelve-constant",
   "metadata": {},
   "outputs": [
    {
     "data": {
      "image/png": "[encoded data removed]",
      "text/plain": [
       "<Figure size 1080x576 with 4 Axes>"
      ]
     },
     "metadata": {
      "needs_background": "light"
     },
     "output_type": "display_data"
    }
   ],
   "source": [
    "# seaborn.violinplot(data=list(data['Open']))\n",
    "fig, axes = plt.subplots(2, 2,figsize=(15,8), sharey=True)\n",
    "fig.suptitle('Tesla stock data')\n",
    "\n",
    "\n",
    "s.lineplot(ax=axes[0,0], x=data_dv.index, y=data_dv['Close'])\n",
    "plt.title('Close/last')\n",
    "\n",
    "s.lineplot(ax=axes[0,1], x=data_dv.index, y=data_dv['Open'])\n",
    "plt.title('Open')\n",
    "\n",
    "s.lineplot(ax=axes[1,0], x=data_dv.index, y=data_dv['High'])\n",
    "plt.title('High')\n",
    "\n",
    "s.lineplot(ax=axes[1,1], x=data_dv.index, y=data_dv['Low'])\n",
    "plt.title('Low')\n",
    "\n",
    "plt.show()"
   ]
  },
  {
   "cell_type": "code",
   "execution_count": 92,
   "id": "swedish-temperature",
   "metadata": {},
   "outputs": [
    {
     "data": {
      "text/html": [
       "<div>\n",
       "<style scoped>\n",
       "    .dataframe tbody tr th:only-of-type {\n",
       "        vertical-align: middle;\n",
       "    }\n",
       "\n",
       "    .dataframe tbody tr th {\n",
       "        vertical-align: top;\n",
       "    }\n",
       "\n",
       "    .dataframe thead th {\n",
       "        text-align: right;\n",
       "    }\n",
       "</style>\n",
       "<table border=\"1\" class=\"dataframe\">\n",
       "  <thead>\n",
       "    <tr style=\"text-align: right;\">\n",
       "      <th></th>\n",
       "      <th>Close</th>\n",
       "      <th>Open</th>\n",
       "      <th>High</th>\n",
       "      <th>Low</th>\n",
       "    </tr>\n",
       "    <tr>\n",
       "      <th>Date</th>\n",
       "      <th></th>\n",
       "      <th></th>\n",
       "      <th></th>\n",
       "      <th></th>\n",
       "    </tr>\n",
       "  </thead>\n",
       "  <tbody>\n",
       "    <tr>\n",
       "      <th>2011-06-10</th>\n",
       "      <td>5.572</td>\n",
       "      <td>5.504</td>\n",
       "      <td>5.6598</td>\n",
       "      <td>5.4700</td>\n",
       "    </tr>\n",
       "    <tr>\n",
       "      <th>2011-06-13</th>\n",
       "      <td>5.686</td>\n",
       "      <td>5.614</td>\n",
       "      <td>5.7760</td>\n",
       "      <td>5.5760</td>\n",
       "    </tr>\n",
       "    <tr>\n",
       "      <th>2011-06-14</th>\n",
       "      <td>5.720</td>\n",
       "      <td>5.708</td>\n",
       "      <td>5.9400</td>\n",
       "      <td>5.7040</td>\n",
       "    </tr>\n",
       "    <tr>\n",
       "      <th>2011-06-15</th>\n",
       "      <td>5.464</td>\n",
       "      <td>5.688</td>\n",
       "      <td>5.6900</td>\n",
       "      <td>5.4140</td>\n",
       "    </tr>\n",
       "    <tr>\n",
       "      <th>2011-06-16</th>\n",
       "      <td>5.300</td>\n",
       "      <td>5.534</td>\n",
       "      <td>5.6000</td>\n",
       "      <td>5.1480</td>\n",
       "    </tr>\n",
       "    <tr>\n",
       "      <th>...</th>\n",
       "      <td>...</td>\n",
       "      <td>...</td>\n",
       "      <td>...</td>\n",
       "      <td>...</td>\n",
       "    </tr>\n",
       "    <tr>\n",
       "      <th>2021-06-03</th>\n",
       "      <td>572.840</td>\n",
       "      <td>601.800</td>\n",
       "      <td>604.5500</td>\n",
       "      <td>571.2200</td>\n",
       "    </tr>\n",
       "    <tr>\n",
       "      <th>2021-06-04</th>\n",
       "      <td>599.050</td>\n",
       "      <td>579.710</td>\n",
       "      <td>600.6100</td>\n",
       "      <td>577.2000</td>\n",
       "    </tr>\n",
       "    <tr>\n",
       "      <th>2021-06-07</th>\n",
       "      <td>605.130</td>\n",
       "      <td>591.825</td>\n",
       "      <td>610.0000</td>\n",
       "      <td>582.8800</td>\n",
       "    </tr>\n",
       "    <tr>\n",
       "      <th>2021-06-08</th>\n",
       "      <td>603.590</td>\n",
       "      <td>623.010</td>\n",
       "      <td>623.0900</td>\n",
       "      <td>595.5000</td>\n",
       "    </tr>\n",
       "    <tr>\n",
       "      <th>2021-06-09</th>\n",
       "      <td>598.780</td>\n",
       "      <td>602.170</td>\n",
       "      <td>611.7900</td>\n",
       "      <td>597.6301</td>\n",
       "    </tr>\n",
       "  </tbody>\n",
       "</table>\n",
       "<p>2516 rows × 4 columns</p>\n",
       "</div>"
      ],
      "text/plain": [
       "              Close     Open      High       Low\n",
       "Date                                            \n",
       "2011-06-10    5.572    5.504    5.6598    5.4700\n",
       "2011-06-13    5.686    5.614    5.7760    5.5760\n",
       "2011-06-14    5.720    5.708    5.9400    5.7040\n",
       "2011-06-15    5.464    5.688    5.6900    5.4140\n",
       "2011-06-16    5.300    5.534    5.6000    5.1480\n",
       "...             ...      ...       ...       ...\n",
       "2021-06-03  572.840  601.800  604.5500  571.2200\n",
       "2021-06-04  599.050  579.710  600.6100  577.2000\n",
       "2021-06-07  605.130  591.825  610.0000  582.8800\n",
       "2021-06-08  603.590  623.010  623.0900  595.5000\n",
       "2021-06-09  598.780  602.170  611.7900  597.6301\n",
       "\n",
       "[2516 rows x 4 columns]"
      ]
     },
     "execution_count": 92,
     "metadata": {},
     "output_type": "execute_result"
    }
   ],
   "source": [
    "data_dv"
   ]
  },
  {
   "cell_type": "code",
   "execution_count": 93,
   "id": "spanish-buffalo",
   "metadata": {},
   "outputs": [
    {
     "data": {
      "text/plain": [
       "<AxesSubplot:>"
      ]
     },
     "execution_count": 93,
     "metadata": {},
     "output_type": "execute_result"
    },
    {
     "data": {
      "image/png": "[encoded data removed]",
      "text/plain": [
       "<Figure size 432x288 with 1 Axes>"
      ]
     },
     "metadata": {
      "needs_background": "light"
     },
     "output_type": "display_data"
    }
   ],
   "source": [
    "seaborn.violinplot(data=list(data['Close']))"
   ]
  },
  {
   "cell_type": "code",
   "execution_count": 94,
   "id": "divine-township",
   "metadata": {},
   "outputs": [
    {
     "data": {
      "text/plain": [
       "<matplotlib.collections.PathCollection at 0x26f66f70>"
      ]
     },
     "execution_count": 94,
     "metadata": {},
     "output_type": "execute_result"
    },
    {
     "data": {
      "image/png": "[encoded data removed]",
      "text/plain": [
       "<Figure size 432x288 with 1 Axes>"
      ]
     },
     "metadata": {
      "needs_background": "light"
     },
     "output_type": "display_data"
    }
   ],
   "source": [
    "plt.scatter(list(data['Open']),list(data['Close']))"
   ]
  },
  {
   "cell_type": "code",
   "execution_count": 95,
   "id": "expressed-tender",
   "metadata": {},
   "outputs": [
    {
     "data": {
      "text/plain": [
       "(array([2164.,   96.,   21.,   31.,   55.,   14.,   32.,   55.,   21.,\n",
       "          27.]),\n",
       " array([  4.39,  92.26, 180.13, 268.  , 355.87, 443.74, 531.61, 619.48,\n",
       "        707.35, 795.22, 883.09]),\n",
       " <BarContainer object of 10 artists>)"
      ]
     },
     "execution_count": 95,
     "metadata": {},
     "output_type": "execute_result"
    },
    {
     "data": {
      "image/png": "[encoded data removed]",
      "text/plain": [
       "<Figure size 720x504 with 1 Axes>"
      ]
     },
     "metadata": {
      "needs_background": "light"
     },
     "output_type": "display_data"
    }
   ],
   "source": [
    "fig, ax = plt.subplots(figsize =(10, 7))\n",
    "ax.hist(list(data['Close']))"
   ]
  },
  {
   "cell_type": "code",
   "execution_count": 96,
   "id": "fiscal-bracket",
   "metadata": {},
   "outputs": [],
   "source": [
    "# pd.date_range(start='1/1/2018', end='1/08/2018')"
   ]
  },
  {
   "cell_type": "code",
   "execution_count": null,
   "id": "secret-collaboration",
   "metadata": {},
   "outputs": [],
   "source": []
  }
 ],
 "metadata": {
  "kernelspec": {
   "display_name": "Python 3",
   "language": "python",
   "name": "python3"
  },
  "language_info": {
   "codemirror_mode": {
    "name": "ipython",
    "version": 3
   },
   "file_extension": ".py",
   "mimetype": "text/x-python",
   "name": "python",
   "nbconvert_exporter": "python",
   "pygments_lexer": "ipython3",
   "version": "3.7.8"
  }
 },
 "nbformat": 4,
 "nbformat_minor": 5
}
